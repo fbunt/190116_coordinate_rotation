{
 "cells": [
  {
   "cell_type": "markdown",
   "metadata": {},
   "source": [
    "## Camera orientation\n",
    "\n",
    "A video lecture covering camera orientation considerations can be found [here](https://www.youtube.com/embed/HoBKG82A9xs).  Please watch the first 30 minutes or so before Friday.\n",
    "\n",
    "The data that I provided to you in coordinates.txt was already in the camera coordinate system.  What can we do when this is not the case.  For example, what if all you know is the coordinate values of some points in east (which we'll call $X$), north ($Y$), and elevation ($Z$), along with the location and rotational orientation of the camera?  We need to determine how to rotate the spatial coordinates of the world so that they are in the frame of reference of the camera, with $z$ pointing normal to the lens plane, and $x$ and $y$ parallel to it in the right and down directions.\n",
    "\n",
    "First, what we need to do is to translate the spatial coordinates ($\\mathbf{X}=\\{X,Y,Z\\}$) so that the camera ($\\mathbf{X}_{cam} = \\{X_{cam},Y_{cam},Z_{cam}\\}$ is located at the origin.  This is straightforward:\n",
    "$$\n",
    "\\mathbf{X}' = \\mathbf{X} - \\mathbf{X}_{cam}.\n",
    "$$\n",
    "This can also be done with a matrix multiplication, so long as the 3D coordinates are homogeneous, ie. there is a 1 appended to the end:\n",
    "$$\n",
    "\\mathbf{X} = [X,Y,Z,1].\n",
    "$$\n",
    "Then, the translation matrix is\n",
    "$$\n",
    "T = \\begin{bmatrix} 1 & 0 & 0 & -X_{cam} \\\\\n",
    "                    0 & 1 & 0 & -Y_{cam} \\\\\n",
    "                    0 & 0 & 0 & -Z_{cam} \\\\\n",
    "                    0 & 0 & 0 & 1 \\end{bmatrix}\n",
    "$$\n",
    "This gives us a Euclidean coordinate system that has its origin coincident with the location of the camera.  Now, we can perform rotations of the points such that they line up with the defined coordinate system of the camera, namely where $z$ is perpendicular to the camera focal plane, $x$ is to the right, and $y$ is down.\n",
    "\n",
    "The thing we need to do is to apply yaw.  This represents the rotation of the camera in the horizontal plane.  We can define this in terms of azimuth, denoted $\\phi$ where $\\phi=0$ implies that the camera is pointed north, and is thus in line with the $Y$-axis in geographic coordinates.  Thus if we have a camera that is pointed $\\phi$ degrees clockwise from north, the rotation matrix is \n",
    "$$\n",
    "R_{yaw} = \\begin{bmatrix} \\cos\\phi & -\\sin\\phi & 0 & 0 \\\\\n",
    "                         \\sin\\phi & \\cos\\phi & 0 & 0 \\\\\n",
    "                         0 & 0 & 1 & 0 \\end{bmatrix}.\n",
    "$$                         \n",
    "Note that this is actually performing a counterclockwise rotation: what we actually want to do is rotate the points, not the camera (its coordinates are fixed).  Thus for a clockwise camera rotation, the points are rotated counterclockwise around the origin which is what $R_yaw \\mathbf{X}'$ is doing.  Let's denote the axes of this new system as $\\mathbf{X}''$  \n",
    "\n",
    "Next, we can adjust for pitch.  As its commonly understood, this means to rotate around the axis which is horizontal, but parallel to the focal plane.  After our yaw operation, the $Y''$ axis is now pointing in the direction perpendicular to the focal plane and $Z''$ is pointing up, so we'll want to rotate around the $X''$ axis.  For pitch, a counterclockwise rotation (e.g. a rotation upwards) is usually thought of as being positive (this is simply a convention), so we'll need a clockwise rotation of the points.  This is given by\n",
    "$$\n",
    "R_{pitch} = \\begin{bmatrix} 1 & 0 & 0 \\\\\n",
    "                            0 & \\cos\\theta & \\sin\\theta \\\\\n",
    "                            0 & -\\sin\\theta & cos\\theta \\end{bmatrix},\n",
    "$$\n",
    "where $\\theta$ is the angle of the camera with respect to a plane passing through the $X''$ and $Y''$ axes.  This new coordinate system will be called $\\mathbf{X}'''$  \n",
    "\n",
    "Third, we can apply a roll matrix to account for camera being canted, or not \"flat\" in the side-to-side sense.  This is a rotation around the $Y$ axis:\n",
    "$$\n",
    "R_{roll} = \\begin{bmatrix}  \\cos\\psi & 0 & -\\sin\\psi \\\\\n",
    "                            0 & 1 & 0 \\\\\n",
    "                            \\sin\\psi & 0 & cos\\psi \\end{bmatrix},\n",
    "$$\n",
    "where $\\psi$ is the amount of roll present in the camera, measured clockwise from a plane passing through $X'''$ and $Y'''$.  This new coordinate system will be called $\\mathbf{X}''''$\n",
    "\n",
    "Applying these matrices in sequence will translate and rotate our points so that they are measured in the coordinate system where $Y''''$ is pointing normal to the camera focal plane, $X''''$ is parallel to it width-wise, and $Z''''$ is parallel to it height-wise.  This is fine, but the typical convention is that the third coordinate in the ordered triple ($Z''''$) should be normal to the camera plane, and the second ($Y''''$) should point down.  This means that we should apply one final rotation\n",
    "$$\n",
    "R_{axis} = \\begin{bmatrix} 1 & 0 & 0 \\\\ \n",
    "                           0 & 0 & -1 \\\\\n",
    "                           0 & 1 & 0 \n",
    "\\end{bmatrix}\n",
    "$$\n",
    "This one is simply a 90 degree counter clockwise rotation around the $X''''$ axis so that now $Z''''$ is pointing in the direction that $Y''''$ was before, and $Y''''$ is pointing in the negative $Z''''$ direction.  We'll call these final axes $\\mathbf{x}=[x,y,z]$, which are the camera-centric coordinates we've been looking for.  \n",
    "\n",
    "If we compose these matrices, we get a complete transformation matrix $C$:\n",
    "$$\n",
    "C = R_{axis} R_{roll} R_{pitch} R_{yaw} T,\n",
    "$$\n",
    "which maps from homogeneous geographical coordinates to homogeneous generalized coordinates.  \n",
    "                     \n",
    "Your objective is to write a function that generates this transformation matrix $C$ and applies it to an arbitrary set of points in the $X,Y,Z$ coordinate system.  To test your function, apply it to the attached file coordinates_ene.txt, assuming a camera azimuth of 45 degrees, a pitch of -10 degrees, and a roll of zero degrees, and camera coordinates easting=10000, northing=5000, elevation=1000.  Ensure that the resulting transformed coordinates look similar to those from coordinates.txt from the Jan. 14th assignment (Note that they won't be exactly the same, but the general sinusoidal shape of the resulting points should be the same.  This is because I used a different random number generator to produce each dataset)."
   ]
  },
  {
   "cell_type": "code",
   "execution_count": 48,
   "metadata": {},
   "outputs": [],
   "source": [
    "%matplotlib notebook\n",
    "import matplotlib.pyplot as plt\n",
    "import numpy as np"
   ]
  },
  {
   "cell_type": "code",
   "execution_count": 49,
   "metadata": {},
   "outputs": [],
   "source": [
    "X = np.loadtxt(\"coordinates_ene.txt\")\n",
    "n,m = X.shape\n",
    "#X.shape  #(1000, 3)\n",
    "\n",
    "# camera coordinates\n",
    "easting=10000\n",
    "northing=5000\n",
    "elevation=1000\n",
    "Xcam = np.array([easting,northing,elevation])\n",
    "# a camera angles \n",
    "Phi   =  45\n",
    "Theta = -10\n",
    "Si    =  0"
   ]
  },
  {
   "cell_type": "code",
   "execution_count": 51,
   "metadata": {},
   "outputs": [
    {
     "name": "stdout",
     "output_type": "stream",
     "text": [
      "[11026.73268858  6075.42472433   790.78511307]\n",
      "[1026.73268858 1075.42472433 -209.21488693]\n",
      "[1.10267327e+04 6.07542472e+03 7.90785113e+02 1.00000000e+00]\n"
     ]
    }
   ],
   "source": [
    "print (X[0])\n",
    "# move the cam to origin by straightforward\n",
    "X_prime_1 = X - Xcam    \n",
    "print (X_prime_1[0])\n",
    "\n",
    "# move the cam to origin by a matrix multiplication\n",
    " \n",
    "T = np.array([[1.0,0.0,0.0,-Xcam[0]],\n",
    "              [0.0,1.0,0.0,-Xcam[1]],\n",
    "              [0.0,0.0,0.0,-Xcam[2]],\n",
    "              [0.0,0.0,0.0,1.0]])\n",
    "\n",
    "# make X like X=[X,Y,Z,1].\n",
    "Ones = np.ones((n,1)) \n",
    "X_ones = np.hstack((X,Ones))\n",
    "print (X_ones[0])\n",
    "\n",
    "# X_prime = X * T\n",
    "X_prime = np.dot(X_ones,T)\n"
   ]
  },
  {
   "cell_type": "code",
   "execution_count": 59,
   "metadata": {},
   "outputs": [],
   "source": [
    "# apply yaw. it represents the rotation of the camera in the horizontal plane\n",
    "\n",
    "sin_Phi = np.sin(Phi)\n",
    "cos_Phi = np.cos(Phi)\n",
    "\n",
    "R_yaw = np.array([[cos_Phi  ,-sin_Phi    , 0.0       ,0.0],\n",
    "                  [sin_Phi  , sin_Phi    , 0.0       ,0.0],\n",
    "                  [0.0      ,0.0         , 1.0       ,0.0],\n",
    "                  [0.0      ,0.0         , 0.0       ,0.0]]) \n",
    "\n",
    "# X_prime_2 =  X_prime * R_yaw  \n",
    "X_prime_2 =  np.dot( X_prime,R_yaw)"
   ]
  },
  {
   "cell_type": "code",
   "execution_count": null,
   "metadata": {},
   "outputs": [],
   "source": [
    "# adjust for pitch\n",
    "\n",
    "sin_Theta = np.sin(Theta)\n",
    "cos_Theta = np.cos(Theta)\n",
    "\n",
    "R_pitch = np.array([[1.0     , 0.0        , 0.0       ],\n",
    "                     [0.0    , cos_Theta  , sin_Theta ],\n",
    "                     [0.0    ,-sin_Theta  , cos_Theta ]]) "
   ]
  },
  {
   "cell_type": "code",
   "execution_count": null,
   "metadata": {},
   "outputs": [],
   "source": []
  }
 ],
 "metadata": {
  "kernelspec": {
   "display_name": "Python 3",
   "language": "python",
   "name": "python3"
  },
  "language_info": {
   "codemirror_mode": {
    "name": "ipython",
    "version": 2
   },
   "file_extension": ".py",
   "mimetype": "text/x-python",
   "name": "python",
   "nbconvert_exporter": "python",
   "pygments_lexer": "ipython2",
   "version": "2.7.14"
  }
 },
 "nbformat": 4,
 "nbformat_minor": 2
}
